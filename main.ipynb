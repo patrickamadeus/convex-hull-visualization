{
 "cells": [
  {
   "cell_type": "markdown",
   "metadata": {},
   "source": [
    "# Tucil 2 **Strategi Algoritma**\n",
    "Nama : Patrick Amadeus Irawan \\\n",
    "NIM : 13520109 \\\n",
    "Kelas : K-01"
   ]
  },
  {
   "cell_type": "code",
   "execution_count": null,
   "metadata": {},
   "outputs": [],
   "source": [
    "import pandas as pd  \n",
    "import matplotlib.pyplot as plt  \n",
    "import scipy\n",
    "\n",
    "from sklearn import datasets"
   ]
  },
  {
   "cell_type": "code",
   "execution_count": null,
   "metadata": {},
   "outputs": [],
   "source": [
    "data = datasets.load_iris()"
   ]
  },
  {
   "cell_type": "code",
   "execution_count": null,
   "metadata": {},
   "outputs": [],
   "source": [
    "df = pd.DataFrame(data.data, columns=data.feature_names)\n",
    "df['Target'] = pd.DataFrame(data.target)\n",
    "df"
   ]
  },
  {
   "cell_type": "markdown",
   "metadata": {},
   "source": [
    "Enumerate Target Label from **Dataset**"
   ]
  },
  {
   "cell_type": "code",
   "execution_count": null,
   "metadata": {},
   "outputs": [],
   "source": [
    "n_target = len(df.Target.value_counts())\n",
    "d_target = {}\n",
    "for i in range(n_target):\n",
    "    d_target[i] = (df.Target.value_counts().index[i])"
   ]
  },
  {
   "cell_type": "markdown",
   "metadata": {},
   "source": [
    "Select X, Y to be Projected with **Hull Convex**"
   ]
  },
  {
   "cell_type": "code",
   "execution_count": null,
   "metadata": {},
   "outputs": [],
   "source": [
    "idx = 0\n",
    "msg = \"\"\n",
    "for i in range(len(df.columns)):\n",
    "    msg += (str(i+1)+\". \"+str(df.columns[i]) + \"\\n\\n\")\n",
    "idX,idY = input(msg + \"Pick 2 columns to plot [ex :1 2] : \").split()\n",
    "x,y = df.columns[int(idX)-1],df.columns[int(idY)-1]"
   ]
  },
  {
   "cell_type": "code",
   "execution_count": null,
   "metadata": {},
   "outputs": [],
   "source": [
    "d_points = {}\n",
    "\n",
    "for i in d_target:\n",
    "    d_points[i] = [(df[x].values[j] , df[y].values[j]) for j in range(len(df[x])) if df.Target.values[j] == i]\n"
   ]
  },
  {
   "cell_type": "markdown",
   "metadata": {},
   "source": [
    "#### **QuickSort** Implementation for points"
   ]
  },
  {
   "cell_type": "code",
   "execution_count": null,
   "metadata": {},
   "outputs": [],
   "source": [
    "def quick_sort(points):\n",
    "    if len(points) <= 1:\n",
    "        return points\n",
    "    else:\n",
    "        pivot = points[0]\n",
    "        less = [point for point in points[1:] if (point[0] < pivot[0]) or (point[0] == pivot[0] and point[1] < pivot[1])]\n",
    "        greater = [point for point in points[1:] if (point[0] > pivot[0]) or (point[0] == pivot[0] and point[1] >= pivot[1])]\n",
    "        return quick_sort(less) + [pivot] + quick_sort(greater)"
   ]
  },
  {
   "cell_type": "code",
   "execution_count": null,
   "metadata": {},
   "outputs": [],
   "source": [
    "for key in d_points:\n",
    "    d_points[key] = quick_sort(d_points[key])"
   ]
  },
  {
   "cell_type": "code",
   "execution_count": null,
   "metadata": {},
   "outputs": [],
   "source": [
    "import math\n",
    "def dist_pt_line(A,B,C,x,y):\n",
    "    return abs(A*x + B*y + C)/(math.sqrt(A**2 + B**2))"
   ]
  },
  {
   "cell_type": "markdown",
   "metadata": {},
   "source": [
    "#### Divide and Conquer **Convex Hull** algorithm"
   ]
  },
  {
   "cell_type": "code",
   "execution_count": null,
   "metadata": {},
   "outputs": [],
   "source": [
    "# convex hull algorithm from array of points\n",
    "def convex_hull(points):\n",
    "    points = quick_sort(points)\n",
    "    p_min , p_max = points[0] , points[-1]\n",
    "    \n",
    "    # Coefficent for linear line equation\n",
    "    A,B,C = (p_max[1] - p_min[1]) , (p_min[0] - p_max[0]) , (p_min[0]*(p_min[1] - p_max[1]) + p_min[1]*(p_max[0] - p_min[0]))\n",
    "    upper,lower = [],[]\n",
    "    for point in points:\n",
    "        if (A*point[0] + B*point[1] + C) < 0:\n",
    "            upper.append(point)\n",
    "        elif (A*point[0] + B*point[1] + C) > 0:\n",
    "            lower.append(point)\n",
    "    return [p_min] + convex_hull_upper(upper,p_min,p_max) + [p_max]  +convex_hull_lower(lower,p_min,p_max)\n",
    "\n",
    "def convex_hull_upper(points,p1,p2):\n",
    "    if len(points) == 0:\n",
    "        return []\n",
    "    if len(points) == 1:\n",
    "        return [points[0]]\n",
    "    # Coefficent for linear line equation\n",
    "    A,B,C = (p2[1] - p1[1]) , (p1[0] - p2[0]) , (p1[0]*(p1[1] - p2[1]) + p1[1]*(p2[0] - p1[0]))\n",
    "    distance = 0\n",
    "    p_max = None\n",
    "\n",
    "    #find the maximum distance point\n",
    "    for point in points:\n",
    "        if dist_pt_line(A,B,C,point[0],point[1]) > distance:\n",
    "            distance = dist_pt_line(A,B,C,point[0],point[1])\n",
    "            p_max = point\n",
    "    \n",
    "    #prepare for leftside line\n",
    "    A,B,C = (p_max[1] - p1[1]) , (p1[0] - p_max[0]) , (p1[0]*(p1[1] - p_max[1]) + p1[1]*(p_max[0] - p1[0]))\n",
    "    upper1 = []\n",
    "    for point in points:\n",
    "        if (A*point[0] + B*point[1] + C) < 0:\n",
    "            upper1.append(point)\n",
    "\n",
    "    #prepare for rightside line\n",
    "    A,B,C = (p2[1] - p_max[1]) , (p_max[0] - p2[0]) , (p_max[0]*(p_max[1] - p2[1]) + p_max[1]*(p2[0] - p_max[0]))\n",
    "    upper2 = []\n",
    "    for point in points:\n",
    "        if (A*point[0] + B*point[1] + C) < 0:\n",
    "            upper2.append(point)\n",
    "    \n",
    "    return convex_hull_upper(upper1 , p1 , p_max) + [p_max] + convex_hull_upper(upper2 , p_max , p2)\n",
    "\n",
    "def convex_hull_lower(points,p1,p2):\n",
    "    if len(points) == 0:\n",
    "        return []\n",
    "    if len(points) == 1:\n",
    "        return [points[0]]\n",
    "    # Coefficent for linear line equation\n",
    "    A,B,C = (p2[1] - p1[1]) , (p1[0] - p2[0]) , (p1[0]*(p1[1] - p2[1]) + p1[1]*(p2[0] - p1[0]))\n",
    "    distance = 0\n",
    "    p_max = None\n",
    "\n",
    "    #find the maximum distance point\n",
    "    for point in points:\n",
    "        if dist_pt_line(A,B,C,point[0],point[1]) > distance:\n",
    "            distance = dist_pt_line(A,B,C,point[0],point[1])\n",
    "            p_max = point\n",
    "    \n",
    "    #prepare for leftside line\n",
    "    A,B,C = (p_max[1] - p1[1]) , (p1[0] - p_max[0]) , (p1[0]*(p1[1] - p_max[1]) + p1[1]*(p_max[0] - p1[0]))\n",
    "    lower1 = []\n",
    "    for point in points:\n",
    "        if (A*point[0] + B*point[1] + C) > 0:\n",
    "            lower1.append(point)\n",
    "\n",
    "    #prepare for rightside line\n",
    "    A,B,C = (p2[1] - p_max[1]) , (p_max[0] - p2[0]) , (p_max[0]*(p_max[1] - p2[1]) + p_max[1]*(p2[0] - p_max[0]))\n",
    "    lower2 = []\n",
    "    for point in points:\n",
    "        if (A*point[0] + B*point[1] + C) > 0:\n",
    "            lower2.append(point)\n",
    "    \n",
    "    return convex_hull_lower(lower2 , p_max , p2) + [p_max] + convex_hull_lower(lower1 , p1 , p_max)\n"
   ]
  },
  {
   "cell_type": "markdown",
   "metadata": {},
   "source": [
    "#### **Hull Points** Gathering"
   ]
  },
  {
   "cell_type": "code",
   "execution_count": null,
   "metadata": {},
   "outputs": [],
   "source": [
    "hull_points = {}\n",
    "\n",
    "for i in range(n_target):\n",
    "    d = convex_hull(d_points[i])\n",
    "    hull_points[i] = convex_hull(d_points[i])\n"
   ]
  },
  {
   "cell_type": "markdown",
   "metadata": {},
   "source": [
    "### Final Scatter Plot with **Convex Hull** "
   ]
  },
  {
   "cell_type": "code",
   "execution_count": null,
   "metadata": {},
   "outputs": [],
   "source": [
    "color_pallete = [\"blue\",\"green\",\"red\",\"purple\",\"magenta\",\"yellow\",\"black\",\"white\"] # for plotting\n",
    "\n",
    "f = plt.figure()\n",
    "f.set_figwidth(7.5)\n",
    "f.set_figheight(5)\n",
    "\n",
    "for i in d_points:\n",
    "    x, y = [pts[0] for pts in d_points[i]],[pts[1] for pts in d_points[i]]\n",
    "    plt.scatter(x,y,c = color_pallete[i], label = data.target_names[i] ,s=20)\n",
    "\n",
    "for i in hull_points:\n",
    "    size = len(hull_points[i])\n",
    "    for j in range(len(hull_points[i])):\n",
    "        plt.plot([hull_points[i][j % size][0], hull_points[i][(j + 1)% size][0]], [hull_points[i][j % size][1], hull_points[i][(j + 1)% size][1]] , c = color_pallete[i], linewidth = 0.75)\n",
    "\n",
    "plt.xlabel(df.columns[int(idX) - 1])\n",
    "plt.ylabel(df.columns[int(idY) - 1])\n",
    "plt.legend()\n",
    "\n",
    "plt.show()"
   ]
  },
  {
   "cell_type": "code",
   "execution_count": null,
   "metadata": {},
   "outputs": [],
   "source": [
    "# x = [i[0] for i in d_points[0]]\n",
    "# y = [i[1] for i in d_points[0]]\n",
    "# plt.scatter(x[1:-1],y[1:-1],c = \"red\")\n",
    "# plt.scatter([x[0] , x[-1]],[y[0],y[-1]],c = \"green\")\n",
    "# plt.plot([x[0] , x[-1]],[y[0],y[-1]],c = \"green\")\n",
    "# plt.scatter([5.2,4.5],[4.1,2.3],c= \"blue\")\n",
    "\n",
    "\n",
    "# plt.plot([x[0],5.2] ,[y[0] ,4.1] ,c= \"blue\")\n",
    "# plt.plot([x[0],4.5] ,[y[0] ,2.3] ,c= \"blue\")\n",
    "# plt.plot([x[-1],4.5] ,[y[-1] ,2.3] ,c= \"blue\")\n",
    "# plt.plot([x[-1],5.2] ,[y[-1] ,4.1] ,c= \"blue\")\n",
    "\n",
    "# plt.plot([x[0],4.6],[y[0],3.6],c=\"black\")\n",
    "\n",
    "# d = convex_hull(d_points[0])\n",
    "# x,y = [point[0] for point in d],[point[1] for point in d]\n",
    "# plt.scatter(x,y,c = \"black\")\n",
    "\n",
    "# plt.show()"
   ]
  }
 ],
 "metadata": {
  "interpreter": {
   "hash": "c569cd2e17f62341e0f08a54f9a867c3c0d3a6f67454072d7de41a8b5dff8343"
  },
  "kernelspec": {
   "display_name": "Python 3.9.8 64-bit",
   "language": "python",
   "name": "python3"
  },
  "language_info": {
   "codemirror_mode": {
    "name": "ipython",
    "version": 3
   },
   "file_extension": ".py",
   "mimetype": "text/x-python",
   "name": "python",
   "nbconvert_exporter": "python",
   "pygments_lexer": "ipython3",
   "version": "3.9.8"
  },
  "orig_nbformat": 4
 },
 "nbformat": 4,
 "nbformat_minor": 2
}
