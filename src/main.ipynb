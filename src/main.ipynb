{
 "cells": [
  {
   "cell_type": "markdown",
   "metadata": {},
   "source": [
    "# **Convex Hull** Visualizer\n",
    "Nama : Patrick Amadeus Irawan \\\n",
    "NIM : 13520109 \\\n",
    "Kelas : K-01\n"
   ]
  },
  {
   "cell_type": "markdown",
   "metadata": {},
   "source": [
    "----\n",
    "### **Table of Content**\n",
    "1. Library Implementation + Dependency\n",
    "    - QuickSort implementation\n",
    "    - Helper Function implementation\n",
    "    - Convex Hull algorithm implementation\n",
    "2. Dataset Pick\n",
    "3. Columns Pick\n",
    "4. Points QuickSort Implementation\n",
    "5. Hull Points Gathering\n",
    "6. Visualization"
   ]
  },
  {
   "cell_type": "markdown",
   "metadata": {},
   "source": [
    "----\n",
    "###### 1. Library Implementation + Dependency\n",
    "Base Library and Dependency"
   ]
  },
  {
   "cell_type": "code",
   "execution_count": null,
   "metadata": {},
   "outputs": [],
   "source": [
    "# base library\n",
    "import pandas as pd  \n",
    "import matplotlib.pyplot as plt  \n",
    "\n",
    "# datasets property\n",
    "from sklearn import datasets"
   ]
  },
  {
   "cell_type": "markdown",
   "metadata": {},
   "source": [
    "#### **QuickSort** Implementation for points\n",
    "###### Sorting all points **(X,Y)** increasing by **X** then **Y**"
   ]
  },
  {
   "cell_type": "code",
   "execution_count": null,
   "metadata": {},
   "outputs": [],
   "source": [
    "def quick_sort(points):\n",
    "    if len(points) <= 1:\n",
    "        return points\n",
    "    else:\n",
    "        pivot = points[0]\n",
    "        less = [point for point in points[1:] if (point[0] < pivot[0]) or (point[0] == pivot[0] and point[1] < pivot[1])]\n",
    "        greater = [point for point in points[1:] if (point[0] > pivot[0]) or (point[0] == pivot[0] and point[1] >= pivot[1])]\n",
    "        return quick_sort(less) + [pivot] + quick_sort(greater)"
   ]
  },
  {
   "cell_type": "markdown",
   "metadata": {},
   "source": [
    "#### **Helper** Function Implementation"
   ]
  },
  {
   "cell_type": "code",
   "execution_count": null,
   "metadata": {},
   "outputs": [],
   "source": [
    "# Point to Line distance finder\n",
    "def dist_pt_line(p1,p2,pt):\n",
    "    '''\n",
    "    Gather linear coefficient of line Ax + By + C = 0 and\n",
    "    using the distance formula to find the distance between point and line\n",
    "    \n",
    "    params : p1, p2, pt = tuples of (x,y)\n",
    "    return : float\n",
    "    '''\n",
    "    A,B,C = (p2[1] - p1[1]) , (p1[0] - p2[0]) , (p1[0]*(p1[1] - p2[1]) + p1[1]*(p2[0] - p1[0]))\n",
    "    return abs(A*pt[0] + B*pt[1] + C)/((A**2 + B**2)**(0.5))\n",
    "\n",
    "# linear value finder\n",
    "def linear_value(p1,p2,pt):\n",
    "    '''\n",
    "    Gather linear coefficient of line Ax + By + C = 0 and\n",
    "    input X and Y from pt to find the linear value\n",
    "\n",
    "    params : p1, p2, pt = tuples of (x,y)\n",
    "    return : float\n",
    "\n",
    "    Example : \n",
    "    5x + 2y + 3\n",
    "    pt = (2,3)\n",
    "\n",
    "    5*2 + 2*3 + 3 = 15\n",
    "    '''\n",
    "    A,B,C = (p2[1] - p1[1]) , (p1[0] - p2[0]) , (p1[0]*(p1[1] - p2[1]) + p1[1]*(p2[0] - p1[0]))\n",
    "    return A*pt[0] + B*pt[1] + C"
   ]
  },
  {
   "cell_type": "markdown",
   "metadata": {},
   "source": [
    "#### Divide and Conquer **Convex Hull** algorithm Implementation"
   ]
  },
  {
   "cell_type": "code",
   "execution_count": null,
   "metadata": {},
   "outputs": [],
   "source": [
    "def myConvexHull(points, p1 = None, p2 = None , types = 0):\n",
    "    '''\n",
    "    Gather points and find the convex hull of the points (set of points)\n",
    "    points = initial set of points\n",
    "    p1,p2 = mininimum and maximum point of the set of points (based on quick sort)\n",
    "    types = 0 : initial state\n",
    "            1 : upper region\n",
    "            2 : lower region\n",
    "    base -> 0 <= len(points) < 2\n",
    "    recursion -> len(points) >= 2\n",
    "\n",
    "    params : points = list of tuples of (x,y)\n",
    "    return : list of tuples of (x,y)\n",
    "    '''\n",
    "\n",
    "    # ---- Base condition ---- #\n",
    "    if len(points) == 0:\n",
    "        return []\n",
    "    if len(points) == 1:\n",
    "        return [points[0]]\n",
    "    \n",
    "    # ---- Type 0 : Initial 2 area separation ---- #\n",
    "    if not types:\n",
    "        # find the minimum and maximum point\n",
    "        p_min , p_max = points[0] , points[-1] \n",
    "        \n",
    "        upper,lower = [],[]\n",
    "        for point in points:\n",
    "            if linear_value(p_min,p_max,point) < 0:\n",
    "                upper.append(point)\n",
    "            elif linear_value(p_min,p_max,point) > 0:\n",
    "                lower.append(point)\n",
    "        return [p_min] + myConvexHull(upper,p_min,p_max,1) + [p_max] + myConvexHull(lower,p_min,p_max,-1)\n",
    "\n",
    "    # ---- Type 1 & 2 : Upper and Lower region ---- #\n",
    "\n",
    "    # Find the point with the maximum distance to the line\n",
    "    distance, p_max = 0, None\n",
    "    for point in points:\n",
    "        if dist_pt_line(p1,p2,point) > distance:\n",
    "            distance = dist_pt_line(p1,p2,point)\n",
    "            p_max = point\n",
    "    \n",
    "    # Find the points in the upper and lower region\n",
    "        # left : region between p1 and p_max\n",
    "        # right : region between p_max and p2\n",
    "    left,right = [],[]\n",
    "    for point in points:\n",
    "        if linear_value(p1,p_max,point) * types < 0:\n",
    "            left.append(point)\n",
    "        if linear_value(p_max,p2,point) * types < 0:\n",
    "            right.append(point)\n",
    "\n",
    "    # Recursion order separation\n",
    "    if types == 1:\n",
    "        return myConvexHull(left , p1 , p_max, types) + [p_max] + myConvexHull(right , p_max , p2, types)\n",
    "    else:\n",
    "        return myConvexHull(right , p_max , p2, types) + [p_max] + myConvexHull(left , p1 , p_max, types)"
   ]
  },
  {
   "cell_type": "markdown",
   "metadata": {},
   "source": [
    "----\n",
    "###### 2. Dataset Pick <a id = \"two\"></a>\n",
    "### Choose any classification dataset from **Toy Datasets** properties as listed below\n",
    "1. Iris Plants Dataset\n",
    "2. Wine recognition dataset\n",
    "3. Breast cancer wisconsin (diagnostic) dataset\n",
    "\n",
    "*Enter the number of wanted dataset within input*"
   ]
  },
  {
   "cell_type": "code",
   "execution_count": null,
   "metadata": {},
   "outputs": [],
   "source": [
    "data_sets = [\n",
    "    (datasets.load_iris(), \"Iris Plants Dataset\"),\n",
    "    (datasets.load_wine(), \"Wine Recognition Dataset\"),\n",
    "    (datasets.load_breast_cancer(), \"Breast Cancer Wisconsin (Diagnostic) Dataset\"),\n",
    "]\n",
    "\n",
    "data_sets_choice = int(input(\"Enter the dataset number : \"))\n",
    "\n",
    "while data_sets_choice > len(data_sets) or data_sets_choice < 1:\n",
    "    data_sets_choice = int(input(\"Please enter the valid dataset number : \"))\n",
    "\n",
    "data = data_sets[data_sets_choice - 1][0]"
   ]
  },
  {
   "cell_type": "markdown",
   "metadata": {},
   "source": [
    "Chosen Dataset **DataFrame** Preview"
   ]
  },
  {
   "cell_type": "code",
   "execution_count": null,
   "metadata": {},
   "outputs": [],
   "source": [
    "df = pd.DataFrame(data.data, columns=data.feature_names)\n",
    "df['Target'] = pd.DataFrame(data.target)\n",
    "df.head()"
   ]
  },
  {
   "cell_type": "markdown",
   "metadata": {},
   "source": [
    "Enumerate Target Label from **Dataset**"
   ]
  },
  {
   "cell_type": "code",
   "execution_count": null,
   "metadata": {},
   "outputs": [],
   "source": [
    "n_target = len(df.Target.value_counts())\n",
    "d_target = {}\n",
    "for i in range(n_target):\n",
    "    d_target[i] = (df.Target.value_counts().index[i])"
   ]
  },
  {
   "cell_type": "markdown",
   "metadata": {},
   "source": [
    "-----\n",
    "###### 3. Columns Pick\n",
    "### Select 2 fields to be projected with **Convex Hull**\n",
    "###### (*Please choose different columns*)"
   ]
  },
  {
   "cell_type": "code",
   "execution_count": null,
   "metadata": {},
   "outputs": [],
   "source": [
    "idx = 0\n",
    "msg = \"\"\n",
    "for i in range(len(df.columns)):\n",
    "    msg += (str(i+1)+\". \"+str(df.columns[i]) + \"\\n\")\n",
    "print(\"%s dataset have %d columns which enumerated as below : \" % (data_sets[data_sets_choice - 1][1],len(df.columns)))\n",
    "print(msg)"
   ]
  },
  {
   "cell_type": "code",
   "execution_count": null,
   "metadata": {},
   "outputs": [],
   "source": [
    "idX,idY = int(input(\"Pick column 1 to plot : \")),int(input(\"Pick column 2 to plot : \"))\n",
    "while idX <= 0 or idX > len(df.columns) or idY < 0 or idY > len(df.columns):\n",
    "    idX,idY = int(input(\"Pick column 1 to plot : \")),int(input(\"Pick column 2 to plot : \"))\n",
    "while idX == idY:\n",
    "    idY = int(input(\"(Please Pick the different column)Pick column 2 to plot : \"))\n",
    "x,y = df.columns[idX-1],df.columns[idY-1]"
   ]
  },
  {
   "cell_type": "markdown",
   "metadata": {},
   "source": [
    "----\n",
    "###### 4. Points QuickSort Implementation"
   ]
  },
  {
   "cell_type": "code",
   "execution_count": null,
   "metadata": {},
   "outputs": [],
   "source": [
    "# gather and sort points for chosen columns\n",
    "d_points = {}\n",
    "for i in d_target:\n",
    "    d_points[i] = quick_sort([(df[x].values[j] , df[y].values[j]) for j in range(len(df[x])) if df.Target.values[j] == i])\n",
    "                            # -------------- ^^^^^ explanation ^^^^^ ----------------- #\n",
    "# explanation : for every target value (i), gather all points and sort them by absis then ordinate"
   ]
  },
  {
   "cell_type": "markdown",
   "metadata": {},
   "source": [
    "-----\n",
    "###### 5. Hull Points Gathering"
   ]
  },
  {
   "cell_type": "code",
   "execution_count": null,
   "metadata": {},
   "outputs": [],
   "source": [
    "hull_points = {}\n",
    "\n",
    "for i in range(n_target):\n",
    "    hull_points[i] = myConvexHull(d_points[i])\n"
   ]
  },
  {
   "cell_type": "markdown",
   "metadata": {},
   "source": [
    "------\n",
    "###### 6. Visualization\n",
    "### Final Scatter Plot with **Convex Hull** "
   ]
  },
  {
   "cell_type": "code",
   "execution_count": null,
   "metadata": {},
   "outputs": [],
   "source": [
    "color_pallete = [\"blue\",\"green\",\"red\",\"purple\",\"magenta\",\"yellow\",\"black\",\"white\"] # for plotting\n",
    "\n",
    "f = plt.figure()\n",
    "f.set_figwidth(7.5)\n",
    "f.set_figheight(5)\n",
    "\n",
    "for i in d_points:\n",
    "    x, y = [pts[0] for pts in d_points[i]],[pts[1] for pts in d_points[i]]\n",
    "    plt.scatter(x,y,c = color_pallete[i], label = data.target_names[i] ,s=20)\n",
    "\n",
    "for i in hull_points:\n",
    "    size = len(hull_points[i])\n",
    "    for j in range(len(hull_points[i])):\n",
    "        plt.plot([hull_points[i][j % size][0], hull_points[i][(j + 1)% size][0]], [hull_points[i][j % size][1], hull_points[i][(j + 1)% size][1]] , c = color_pallete[i], linewidth = 0.75)\n",
    "\n",
    "plt.title(\"Convex Hull of %s\" % data_sets[data_sets_choice - 1][1])\n",
    "plt.xlabel(df.columns[int(idX) - 1])\n",
    "plt.ylabel(df.columns[int(idY) - 1])\n",
    "plt.legend()\n",
    "\n",
    "plt.show()"
   ]
  }
 ],
 "metadata": {
  "interpreter": {
   "hash": "c569cd2e17f62341e0f08a54f9a867c3c0d3a6f67454072d7de41a8b5dff8343"
  },
  "kernelspec": {
   "display_name": "Python 3.9.8 64-bit",
   "language": "python",
   "name": "python3"
  },
  "language_info": {
   "codemirror_mode": {
    "name": "ipython",
    "version": 3
   },
   "file_extension": ".py",
   "mimetype": "text/x-python",
   "name": "python",
   "nbconvert_exporter": "python",
   "pygments_lexer": "ipython3",
   "version": "3.9.8"
  },
  "orig_nbformat": 4
 },
 "nbformat": 4,
 "nbformat_minor": 2
}
